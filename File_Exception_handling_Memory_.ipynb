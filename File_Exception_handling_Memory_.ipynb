{
  "cells": [
    {
      "cell_type": "markdown",
      "metadata": {
        "id": "7Jw_GuMaBWB-"
      },
      "source": [
        "# Files & Exceptional Handling Assignment\n"
      ]
    },
    {
      "cell_type": "markdown",
      "metadata": {
        "id": "cPxFLnWlBp3S"
      },
      "source": [
        "###Theoretical Questions"
      ]
    },
    {
      "cell_type": "markdown",
      "metadata": {
        "id": "xZi_eZnaBu8K"
      },
      "source": [
        "Q1. What is the difference between interpreted and compiled languages?\n",
        "\n",
        "- Ans: Interpreted languages are executed line-by-line by an interpreter at runtime, translating source code into machine code on the fly. They are generally more portable because the same source code can be run on any platform with the appropriate interpreter. However, they tend to be slower due to the overhead of runtime translation. Errors are detected at runtime, which means the program may run until it encounters an error. Examples include Python and JavaScript.\n",
        "Compiled languages are translated into machine code by a compiler before execution, creating an executable file. This machine code is specific to the target platform, making compiled languages less portable. However, they tend to be faster because the machine code is executed directly by the hardware without the need for runtime translation. Errors are detected at compile-time, which means the program will not run until all errors are fixed. Examples include C and C++."
      ]
    },
    {
      "cell_type": "markdown",
      "metadata": {
        "id": "wK0zOfJ7Cc5P"
      },
      "source": [
        "Q2. What is exception handling in Python?\n",
        "- Ans: Exception handling in Python allows you to manage runtime errors gracefully using try, except, else, and finally blocks. This mechanism helps prevent program crashes and ensures proper resource management. The try block contains code that might raise an exception, the except block handles the exception if it occurs, the else block executes code if no exceptions occur, and the finally block executes code regardless of whether an exception occurs.\n",
        "- Syntax\n",
        "\n",
        "\n",
        "                try:\n",
        "                    risky_code()\n",
        "                except SomeException as e:\n",
        "                    handle_exception(e)\n",
        "                else:\n",
        "                    no_exception_occurred()\n",
        "                finally:\n",
        "                    cleanup_actions()\n",
        "\n",
        "\n",
        "- Example\n",
        "                def divide(a, b):\n",
        "                    try:\n",
        "                        result = a / b\n",
        "                    except ZeroDivisionError as e:\n",
        "                        print(f\"Error: Division by zero is not allowed. {e}\")\n",
        "                    except TypeError as e:\n",
        "                        print(f\"Error: Invalid input type. {e}\")\n",
        "                    else:\n",
        "                        print(f\"The result is {result}\")\n",
        "                    finally:\n",
        "                        print(\"Execution of the divide function is complete.\")\n",
        "\n",
        "                divide(30, 2)\n",
        "                divide(3, 0)\n",
        "                divide(30, 'a')\n",
        "\n",
        "                o/p = The result is 15.0\n",
        "                Execution of the divide function is complete.\n",
        "                Error: Division by zero is not allowed. division by zero\n",
        "                Execution of the divide function is complete.\n",
        "                Error: Invalid input type. unsupported operand type(s) for /: 'int' and 'str'\n",
        "                Execution of the divide function is complete."
      ]
    },
    {
      "cell_type": "markdown",
      "metadata": {
        "id": "8GIJf7xnDoSk"
      },
      "source": [
        "Q3. What is the purpose of the finally block in exception handling?\n",
        "- Ans: The finally block ensures that code runs regardless of whether an exception occurs. It is used for cleanup actions like closing files or releasing resources. This guarantees that important cleanup tasks are always performed, even if an error occurs. The finally block is particularly useful for resource management, ensuring that resources are properly released even if an error occurs.\n",
        "- Syntax\n",
        "                try:\n",
        "                    risky_code()\n",
        "                finally:\n",
        "                    cleanup_actions()\n"
      ]
    },
    {
      "cell_type": "markdown",
      "metadata": {
        "id": "tXXt3W0ND4dz"
      },
      "source": [
        "Q4. What is logging in Python?\n",
        "- Ans: Logging is a way to track events that happen when software runs. The logging module provides a flexible framework for emitting log messages from Python programs. It helps in debugging, monitoring, and understanding the flow of a program by recording significant events. Logging can be configured to output messages to different destinations, such as the console or a file, and at different levels of severity, such as DEBUG, INFO, WARNING, ERROR, and CRITICAL.\n",
        "- Syntax\n",
        "              import logging\n",
        "              logging.basicConfig(level=logging.INFO)\n",
        "              logging.info('This is an info message')"
      ]
    },
    {
      "cell_type": "markdown",
      "metadata": {
        "id": "N5YtV1VrErPA"
      },
      "source": [
        "Q5. What is the significance of the __del__ method in Python?\n",
        "- Ans: The del method in Python, also known as a destructor, defines actions to be performed when an object is garbage collected. It is called automatically when all references to an object have been deleted, and the object is about to be destroyed. While it might seem useful for resource cleanup, its behavior can be unpredictable, and its use is generally discouraged in favor of more reliable alternatives.\n",
        "- Syntax\n",
        "\n",
        "              class MyClass:\n",
        "                  def __del__(self):\n",
        "                      print('Object is being deleted')"
      ]
    },
    {
      "cell_type": "markdown",
      "metadata": {
        "id": "2RWl2_zEFM-z"
      },
      "source": [
        "Q6. What is the difference between import and from import in Python?\n",
        "\n",
        "- **import**: Imports the entire module, making all its functions and classes available. You need to use the module name to access its functions and classes.\n",
        "- **from import**: Imports specific attributes or functions from a module, allowing direct access without module qualification. This can make the code cleaner and more readable.\n",
        "- Example\n",
        "              import math\n",
        "              from math import sqrt"
      ]
    },
    {
      "cell_type": "markdown",
      "metadata": {
        "id": "t13jSFgqFqJt"
      },
      "source": [
        "Q7. How can you handle multiple exceptions in Python?\n",
        "- Ans : In Python, multiple exceptions can be handled using several approaches:\n",
        "Using a tuple of exceptions: This is the most common and recommended way. It involves specifying multiple exception types within a single except block using a tuple. If any of the listed exceptions occur, the code within that except block will be executed.\n",
        "\n",
        "- Using multiple except blocks: This approach provides more granular control, allowing different exception types to be handled separately. Each except block targets a specific exception type.\n",
        "\n",
        "- Using a parent exception class: If you want to handle a group of related exceptions in the same way, you can catch their parent class. For example, Exception is the base class for most built-in exceptions, so catching it will handle many different error types. However, it's generally better to be more specific when catching exceptions to avoid masking unexpected errors.\n",
        "\n",
        "- One-line try-except: For handling minor errors without disrupting the program flow, a compact one-line try-except syntax can be used."
      ]
    },
    {
      "cell_type": "markdown",
      "metadata": {
        "id": "T4lyMH5FFqGE"
      },
      "source": [
        "Q8. What is the purpose of the with statement when handling files in Python?\n",
        "- Ans: The with statement ensures proper acquisition and release of resources. It is commonly used with file operations to ensure files are properly closed, even if an error occurs. This helps prevent resource leaks and ensures that files are always properly managed. The with statement simplifies resource management by automatically handling the setup and teardown of resources.\n",
        "- Syntax\n",
        "            with open('file.txt', 'r') as file:\n",
        "                content = file.read()"
      ]
    },
    {
      "cell_type": "markdown",
      "metadata": {
        "id": "eUdWGz9yFp89"
      },
      "source": [
        "Q9. What is the difference between multithreading and multiprocessing?\n",
        "- Ans: Multithreading and multiprocessing are two ways to achieve concurrency in Python, allowing multiple tasks to run seemingly at the same time\n",
        "- **Multithreading**:\n",
        "- - Definition: Involves creating multiple threads within a single process. Threads share the same memory space.\n",
        "- - Concurrency vs. Parallelism: Due to Python's Global Interpreter Lock (GIL), multithreading is generally better for I/O-bound tasks (like reading files or making network requests) where the program is waiting for external resources. It doesn't achieve true parallelism on multi-core processors for CPU-bound tasks because the GIL prevents multiple native threads from executing Python bytecode simultaneously.\n",
        "- - Overhead: Lower overhead to create and manage threads compared to processes.\n",
        "-- Communication: Easier to share data between threads because they share the same memory space, but requires careful synchronization (using locks, semaphores, etc.) to avoid race conditions.\n",
        "\n",
        "- Multiprocessing:\n",
        "\n",
        "- - Definition: Involves creating multiple independent processes, each with its own memory space.\n",
        "- - Concurrency vs. Parallelism: Suitable for CPU-bound tasks because each process has its own Python interpreter and memory space, allowing true parallelism on multi-core processors.\n",
        "- - Overhead: Higher overhead to create and manage processes compared to threads.\n",
        "- - Communication: More complex to share data between processes as they have separate memory spaces. Requires using inter-process communication mechanisms like pipes or queues.\n",
        "\n",
        "- **Use multithreading for I/O-bound tasks where you need to overlap waiting time.**\n",
        "- **Use multiprocessing for CPU-bound tasks where you need to utilize multiple CPU cores for parallel execution**"
      ]
    },
    {
      "cell_type": "markdown",
      "metadata": {
        "id": "zxnYnyOwFp0Q"
      },
      "source": [
        "Q10. What are the advantages of using logging in a program?\n",
        "- Advantages of using logging\n",
        "\n",
        "- **Debugging:** Logging helps pinpoint errors and understand the program's flow by providing detailed information about the execution.\n",
        "- **Monitoring:** It allows tracking the program's behavior in production, identifying potential issues before they cause failures.\n",
        "- **Auditing:** Logging can record significant events, providing an audit trail for security and compliance purposes.\n",
        "- **Analysis:** Log data can be analyzed to gain insights into program usage, performance, and user behavior.\n",
        "- **Maintainability:** Well-structured logs make it easier for developers to understand and maintain the codebase.\n",
        "- Syntax\n",
        "            import logging\n",
        "            logging.basicConfig(level=logging.DEBUG)\n",
        "            logging.debug('Debug message')"
      ]
    },
    {
      "cell_type": "markdown",
      "metadata": {
        "id": "q-XOkTjyFprH"
      },
      "source": [
        "Q11. Q11. What is memory management in Python?\n",
        "\n",
        "- Ans: Memory management in Python involves the allocation and deallocation of memory to ensure efficient use of resources and prevent memory leaks. Python uses automatic memory management, including garbage collection, to handle memory allocation and deallocation. The garbage collector automatically identifies and frees unused objects, helping to manage memory efficiently and prevent memory leaks."
      ]
    },
    {
      "cell_type": "markdown",
      "metadata": {
        "id": "vV67rtFfMQvn"
      },
      "source": [
        "Q12.What are the basic steps involved in exception handling in Python\n",
        "- The basic steps involved in exception handling in Python are:\n",
        "\n",
        "1.  **Identifying the code that might raise an exception:** This code is placed inside the `try` block.\n",
        "2.  **Handling the exception:** If an exception occurs within the `try` block, the code in the corresponding `except` block is executed. You can specify different `except` blocks for different types of exceptions.\n",
        "3.  **Executing code if no exception occurs:** The `else` block (optional) is executed if the code in the `try` block runs without raising an exception.\n",
        "4.  **Performing cleanup actions:** The `finally` block (optional) is always executed, regardless of whether an exception occurred or not. This is typically used for releasing resources like closing files.\n",
        "- Syntax\n",
        "\n",
        "                try:\n",
        "                    '''risky_code()'''\n",
        "                except Exception as e:\n",
        "                    '''handle_exception(e)'''\n",
        "                else:\n",
        "                    ''''no_exception_occurred()'''\n",
        "                finally:\n",
        "                    '''cleanup_actions()'''\n",
        "\n"
      ]
    },
    {
      "cell_type": "markdown",
      "metadata": {
        "id": "URh_e2EjFpmu"
      },
      "source": [
        "Q13. Why is memory management important in Python ?\n",
        "- Ans : Memory management is important in Python for several reasons:\n",
        "\n",
        "- **Efficiency**: Efficient memory management ensures that your program uses memory optimally, preventing unnecessary consumption of resources. This is crucial for performance, especially in applications dealing with large datasets or requiring high throughput.\n",
        "- **Preventing Memory Leaks**: Poor memory management can lead to memory leaks, where your program fails to release memory that is no longer needed. Over time, this can cause your program to consume an increasing amount of memory, eventually leading to performance degradation or even crashes.\n",
        "- **Stability**: Proper memory management contributes to the stability of your program. By preventing issues like memory leaks and ensuring that memory is allocated and deallocated correctly, you reduce the risk of unexpected errors and crashes.\n",
        "- **Resource Utilization:** In resource-constrained environments, efficient memory management is critical to ensure that your program can run within the available memory. This is particularly important for applications deployed on devices with limited memory.\n",
        "- **Scalability**: As your program grows and handles larger amounts of data, effective memory management becomes even more crucial for maintaining performance and scalability. Well-managed memory allows your program to handle increased workloads without hitting memory-related bottlenecks."
      ]
    },
    {
      "cell_type": "markdown",
      "metadata": {
        "id": "OJbSgpf9PFXc"
      },
      "source": [
        "Q14. What is the role of try and except in exception handling?\n",
        "- **try**: Wraps code that might raise an exception.\n",
        "- **except**: Handles the exception if it occurs. This structure allows for graceful error handling and ensures that the program can continue running or terminate gracefully. The try block contains code that might raise an exception, and the except block handles the exception if it occurs, allowing the program to recover from errors and continue running.\n",
        "- Syntax\n",
        "                try:\n",
        "                    risky_code()\n",
        "                except Exception as e:\n",
        "                    handle_exception(e)"
      ]
    },
    {
      "cell_type": "markdown",
      "metadata": {
        "id": "zVJFs4jwSdTQ"
      },
      "source": [
        "Q15. How does Python's garbage collection system work?\n",
        "- Ans: Python employs automatic garbage collection to manage memory, primarily using a combination of reference counting and generational cyclic garbage collection. Reference counting keeps track of how many references an object has. When an object's reference count drops to zero, it becomes eligible for garbage collection and its memory is released. However, reference counting alone cannot handle reference cycles, where objects refer to each other, preventing their reference counts from ever reaching zero. In such cases, their reference counts will never drop to zero, and they would leak memory without an additional mechanism. Python's garbage collector includes a cycle detection algorithm that periodically identifies and collects these unreachable cycles of objects.\n"
      ]
    },
    {
      "cell_type": "markdown",
      "metadata": {
        "id": "Ti40UQslUN2c"
      },
      "source": [
        "Q16. What is the purpose of the else block in exception handling?\n",
        "\n",
        "- Ans: The else block executes code if no exceptions occur in the try block, allowing for clean separation of normal and exceptional code paths. This helps in organizing code and making it more readable and maintainable. The else block is useful for code that should only run if no exceptions occur, providing a clear distinction between normal and exceptional code paths.\n",
        "-Syntax\n",
        "              try:\n",
        "                  risky_code()\n",
        "              except Exception as e:\n",
        "                  handle_exception(e)\n",
        "              else:\n",
        "                  no_exception_occurred()"
      ]
    },
    {
      "cell_type": "markdown",
      "metadata": {
        "id": "EvpFbe3iUd2H"
      },
      "source": [
        "Q17. What are the common logging levels in Python?\n",
        "\n",
        "- Ans: The common logging levels are DEBUG, INFO, WARNING, ERROR, and CRITICAL, each indicating the severity of the log messages. These levels help categorize log messages and control the output based on the importance of the events. DEBUG is used for detailed diagnostic information, INFO for general information, WARNING for potential issues, ERROR for errors that prevent the program from continuing, and CRITICAL for severe errors that may cause the program to terminate.\n",
        "- Syntax\n",
        "          import logging\n",
        "          logging.basicConfig(level=logging.DEBUG)\n",
        "          logging.debug('Debug message')\n"
      ]
    },
    {
      "cell_type": "markdown",
      "metadata": {
        "id": "bnCcjWWxVQ72"
      },
      "source": [
        "Q18. What is the difference between os.fork() and multiprocessing in Python?\n",
        "- **os.fork()**: This function is available on Unix-like systems (not on Windows). It creates a new process by duplicating the calling process. The child process is an almost exact copy of the parent process, inheriting its memory space, file descriptors, etc., at the time of the fork. However, the two processes are distinct and run independently. os.fork() is a lower-level system call.\n",
        "- **multiprocessing module**: This is a higher-level, cross-platform module that provides an API for creating and managing processes. It abstracts away the differences between operating systems and provides tools like Process objects, pipes, queues, and locks for inter-process communication and synchronization. The multiprocessing module can use os.fork() on systems where it's available, but it also provides alternative implementations for platforms like Windows where os.fork() is not supported (typically by spawning new processes)."
      ]
    },
    {
      "cell_type": "markdown",
      "metadata": {
        "id": "aKUCpXsNWWIK"
      },
      "source": [
        "Q19.What is the importance of closing a file in Python\n",
        "\n",
        "- **Resource Management**: When a file is opened, the operating system allocates resources to manage it. Failing to close the file after use can lead to resource leaks, potentially causing performance issues or crashes if too many files remain open.\n",
        "\n",
        "- **Data Integrity**: Data written to a file may be buffered, meaning it's temporarily stored in memory before being written to the disk. Closing the file ensures that all buffered data is flushed, guaranteeing data completeness and preventing corruption.\n",
        "\n",
        "- **File Locking**: Some file operations require exclusive access. If a file isn't closed, it may remain locked, preventing other processes or users from accessing it.\n",
        "\n",
        "- **Code Maintainability**: Explicitly closing files is a best practice that enhances code clarity and robustness, making it easier to understand and maintain.\n",
        "\n",
        "- **Preventing Errors:** Attempting to perform operations on a closed file will raise a ValueError, signaling that the file is no longer accessible."
      ]
    },
    {
      "cell_type": "markdown",
      "metadata": {
        "id": "Kc3oXR8-W7K3"
      },
      "source": [
        "Q20. What is the difference between file.read() and file.readline() in Python?\n",
        "\n",
        "- **file.read()**: Reads the entire file into a single string. This method is useful for reading small files that can be easily loaded into memory.\n",
        "\n",
        "- **file.readline()**: Reads one line at a time, making it suitable for processing large files line-by-line. This method is useful for reading large files that cannot be loaded into memory all at once, allowing the program to process each line individually.\n",
        "-Syntax\n",
        "              with open('file.txt', 'r') as file:\n",
        "                  content = file.read()\n",
        "                  line = file.readline()"
      ]
    },
    {
      "cell_type": "markdown",
      "metadata": {
        "id": "YIbSGdWNXbuK"
      },
      "source": [
        "Q21. What is the logging module in Python used for?\n",
        "\n",
        "- Ans: The logging module provides a flexible framework for emitting log messages from Python programs, aiding in debugging and monitoring. It allows developers to track the flow of the program and identify issues. The logging module supports different log levels, output formats, and destinations, making it a powerful tool for managing log messages in Python applications.\n",
        "\n",
        "- Syntax\n",
        "              import logging\n",
        "              logging.basicConfig(level=logging.INFO)\n",
        "              logging.info('This is an info message')"
      ]
    },
    {
      "cell_type": "markdown",
      "metadata": {
        "id": "Syx2Pbk4X448"
      },
      "source": [
        "Q22. What is the os module in Python used for in file handling?\n",
        "- Ans: The os module provides functions to interact with the operating system, such as file operations, directory management, and process handling. It is essential for performing system-level tasks in Python. The os module allows developers to perform tasks like creating, deleting, and renaming files and directories, as well as managing file permissions and attributes."
      ]
    },
    {
      "cell_type": "markdown",
      "metadata": {
        "id": "Rsi_71JkY57z"
      },
      "source": [
        "Q23. What are the challenges associated with memory management in Python?\n",
        "- Ans : Challenges associated with memory management in Python include:-\n",
        "\n",
        "- **Memory Leaks**: Even with automatic garbage collection, memory leaks can occur, especially with circular references where objects reference each other, preventing their reference counts from reaching zero.\n",
        "\n",
        "- **High Memory Consumption**: Python's dynamic typing and the overhead of objects can lead to higher memory usage compared to languages like C or C++.\n",
        "\n",
        "- **Garbage Collection Overhead**: While automatic garbage collection simplifies development, it can introduce performance overhead, particularly with latency spikes during collection cycles.\n",
        "\n",
        "- **Fragmentation:** Dynamic memory allocation can lead to fragmentation, where free memory is scattered, making it difficult to allocate large contiguous blocks.\n",
        "\n",
        "- **Limited Manual Control**: Python abstracts away much of the memory management, offering limited manual control compared to languages where developers can explicitly allocate and deallocate memory.\n",
        "\n",
        "- **Memory Errors**: When dealing with large datasets or inefficient code, programs can encounter memory errors if they consume more memory than available.\n",
        "\n",
        "- **Complexity of Analysis**: Analyzing memory-related issues in Python can be complex due to the intricacies of its memory allocation system.\n",
        "\n",
        "- **Potential for Slower Runtimes**: Python programs might experience slower runtimes because the program might hold onto freed memory within the interpreter instead of releasing it to the operating system.\n",
        "\n",
        "- **Memory Bloat**: Applications may load large amounts of data into memory but fail to deallocate it when it's no longer in use, leading to memory bloat.\n",
        "\n",
        "- **Internal Fragmentation**: Internal fragmentation can occur when memory blocks allocated to a process are larger than the requested size, resulting in wasted space.\n",
        "\n",
        "- **Multithreading Issues**: Multithreading can lead to race conditions, deadlocks, and synchronization complications, affecting memory management."
      ]
    },
    {
      "cell_type": "markdown",
      "metadata": {
        "id": "llU6DbYfaELs"
      },
      "source": [
        "Q 24.How do you raise an exception manually in Python\n",
        "\n",
        "- Use the **raise** statement with an exception to manually raise an error. This allows for custom error handling and can be used to enforce certain conditions in the code. Raising exceptions manually can help ensure that the program behaves as expected and can provide meaningful error messages to users and developers.\n",
        "- Syntax\n",
        "\n",
        "            raise ValueError(\"An error occurred\")\n",
        "\n",
        "            "
      ]
    },
    {
      "cell_type": "markdown",
      "metadata": {
        "id": "ZLPFY8Mmaqrt"
      },
      "source": [
        "Q25. Why is it important to use multithreading in certain applications?\n",
        "\n",
        "- Multithreading improves performance by allowing concurrent execution of tasks, making applications more responsive and efficient. It is particularly useful for I/O-bound tasks where waiting for external resources can be parallelized. By using multiple threads, an application can perform multiple tasks simultaneously, improving overall performance and responsiveness.\n",
        "- Syntax\n",
        "\n",
        "                  import threading\n",
        "                  def task():\n",
        "                      print('Task executed')\n",
        "                  thread = threading.Thread(target=task)\n",
        "                  thread.start()\n"
      ]
    },
    {
      "cell_type": "markdown",
      "metadata": {
        "id": "wPqBy0uVbcFi"
      },
      "source": [
        "=========================================================================================================\n"
      ]
    },
    {
      "cell_type": "markdown",
      "metadata": {
        "id": "OAeojaN6Fpdz"
      },
      "source": [
        "### Practical Questions"
      ]
    },
    {
      "cell_type": "code",
      "execution_count": 2,
      "metadata": {
        "id": "f4dEXm4GcIrI"
      },
      "outputs": [],
      "source": [
        "'''\n",
        "Q1. How can you open a file for writing in Python and write a string to it?\n",
        "\n",
        "'''\n",
        "\n",
        "with open('myfile.txt', 'w') as file:\n",
        "    # Write a string to the file\n",
        "    file.write(\"HI MY NAME IS Aladin P \\n\")\n",
        "    file.write(\"THIS IS MY ASSIGNMENT FOR FILE HANDLING \\n\")\n"
      ]
    },
    {
      "cell_type": "code",
      "execution_count": 3,
      "metadata": {
        "colab": {
          "base_uri": "https://localhost:8080/"
        },
        "id": "GX4WRZcNcIh8",
        "outputId": "56a89a6b-a12b-4e71-b766-9773d7d4f589"
      },
      "outputs": [
        {
          "output_type": "stream",
          "name": "stdout",
          "text": [
            "HI MY NAME IS Aladin P \n",
            "THIS IS MY ASSIGNMENT FOR FILE HANDLING \n"
          ]
        }
      ],
      "source": [
        "'''\n",
        "Q2. Write a Python program to read the contents of a file and print each line.\n",
        "'''\n",
        "\n",
        "# i will be using `myfile.txt` for the content so that i have to not call or write again and again\n",
        "with open('myfile.txt', 'r') as file:\n",
        "    for line in file:\n",
        "        print(line, end='')"
      ]
    },
    {
      "cell_type": "code",
      "execution_count": 4,
      "metadata": {
        "colab": {
          "base_uri": "https://localhost:8080/"
        },
        "id": "K3Cdx4jwcIY3",
        "outputId": "ba91c801-2195-4616-9b28-1ac6b46b64a5"
      },
      "outputs": [
        {
          "output_type": "stream",
          "name": "stdout",
          "text": [
            "SORRY FILE NOT FOUND !! \n"
          ]
        }
      ],
      "source": [
        "'''\n",
        "Q3. How would you handle a case where the file doesn't exist while trying to open it for reading?\n",
        "\n",
        "'''\n",
        "\n",
        "try:\n",
        "    with open(\"abc.txt\", \"r\") as file:\n",
        "        data = file.read()\n",
        "except FileNotFoundError:\n",
        "    print(\"SORRY FILE NOT FOUND !! \")"
      ]
    },
    {
      "cell_type": "code",
      "execution_count": 5,
      "metadata": {
        "colab": {
          "base_uri": "https://localhost:8080/"
        },
        "id": "uxPbad3keIFt",
        "outputId": "a295ccf6-158e-4d3f-ea70-2ae3c9b5a244"
      },
      "outputs": [
        {
          "output_type": "stream",
          "name": "stdout",
          "text": [
            "Content copied from 'myfile.txt' to 'destination.txt' successfully.\n"
          ]
        }
      ],
      "source": [
        "\n",
        "'''\n",
        "Q4. Write a Python script that reads from one file and writes its content to another file.\n",
        "\n",
        "'''\n",
        "\n",
        "source_file_path = 'myfile.txt'\n",
        "destination_file_path = 'destination.txt'\n",
        "\n",
        "try:\n",
        "    with open(source_file_path, 'r') as source_file:\n",
        "        content = source_file.read()\n",
        "\n",
        "    with open(destination_file_path, 'w') as destination_file:\n",
        "        destination_file.write(content)\n",
        "\n",
        "    print(f\"Content copied from '{source_file_path}' to '{destination_file_path}' successfully.\")\n",
        "except FileNotFoundError:\n",
        "    print(f\"Error: The file '{source_file_path}' does not exist.\")\n",
        "except Exception as e:\n",
        "    print(f\"An error occurred: {e}\")\n"
      ]
    },
    {
      "cell_type": "code",
      "execution_count": 6,
      "metadata": {
        "colab": {
          "base_uri": "https://localhost:8080/"
        },
        "id": "yMeSTt6ZcIPn",
        "outputId": "69055033-6935-4565-c462-c2144d068edf"
      },
      "outputs": [
        {
          "output_type": "stream",
          "name": "stdout",
          "text": [
            "Error: Sorry!! Division by zero is not allowed.\n"
          ]
        }
      ],
      "source": [
        "'''\n",
        "Q5. How would you catch and handle division by zero error in Python?\n",
        "\n",
        "'''\n",
        "try:\n",
        "    numerator = 100\n",
        "    denominator = 0\n",
        "    result = numerator / denominator\n",
        "    print(f\"The result is {result}\")\n",
        "except ZeroDivisionError:\n",
        "    print(\"Error: Sorry!! Division by zero is not allowed.\")"
      ]
    },
    {
      "cell_type": "code",
      "execution_count": 7,
      "metadata": {
        "colab": {
          "base_uri": "https://localhost:8080/"
        },
        "id": "pKkb5_NscIG4",
        "outputId": "c33f71c9-7d1f-432c-aaeb-018dafbc72f7"
      },
      "outputs": [
        {
          "output_type": "stream",
          "name": "stderr",
          "text": [
            "ERROR:root:Division by zero is not allowed.\n"
          ]
        }
      ],
      "source": [
        "'''\n",
        "Q6. Write a Python program that logs an error message to a log file when a division by zero exception occurs.\n",
        "\n",
        "'''\n",
        "\n",
        "import logging\n",
        "\n",
        "# Configure logging\n",
        "logging.basicConfig(filename='error.log', level=logging.ERROR)\n",
        "\n",
        "def divide(numerator, denominator):\n",
        "    try:\n",
        "        result = numerator / denominator\n",
        "        return result\n",
        "    except ZeroDivisionError:\n",
        "        logging.error(\"Division by zero is not allowed.\")\n",
        "        return None\n",
        "divide(40,0)"
      ]
    },
    {
      "cell_type": "code",
      "execution_count": 8,
      "metadata": {
        "colab": {
          "base_uri": "https://localhost:8080/"
        },
        "id": "20reN7JAcH9P",
        "outputId": "56045736-3316-4249-b0a7-95aa715f4bc8"
      },
      "outputs": [
        {
          "output_type": "stream",
          "name": "stderr",
          "text": [
            "WARNING:root:This is a warning message about potential issues.\n",
            "ERROR:root:This is an error message for failed operations.\n"
          ]
        }
      ],
      "source": [
        "'''\n",
        "Q7. How do you log information at different levels (INFO, ERROR, WARNING) in Python using the logging module?\n",
        "\n",
        "'''\n",
        "import logging\n",
        "\n",
        "# Configure logging\n",
        "logging.basicConfig(filename='app.log',level=logging.INFO, format='%(asctime)s - %(levelname)s - %(message)s')\n",
        "\n",
        "logging.info(\"This is an informational message to indicate normal operation.\")\n",
        "logging.warning(\"This is a warning message about potential issues.\")\n",
        "logging.error(\"This is an error message for failed operations.\")"
      ]
    },
    {
      "cell_type": "code",
      "execution_count": 9,
      "metadata": {
        "colab": {
          "base_uri": "https://localhost:8080/"
        },
        "id": "W9xEfl4aHhdi",
        "outputId": "502b224c-d302-40c2-9543-c48c2c1407e7"
      },
      "outputs": [
        {
          "output_type": "stream",
          "name": "stdout",
          "text": [
            "HI MY NAME IS Aladin P \n",
            "THIS IS MY ASSIGNMENT FOR FILE HANDLING \n",
            "\n",
            "Error: File 'mfile.txt' not found.\n"
          ]
        }
      ],
      "source": [
        "'''\n",
        "Q8. Write a program to handle a file opening error using exception handling.\n",
        "\n",
        "'''\n",
        "def file_handling_example(filename):\n",
        "    try:\n",
        "        with open(filename, 'r') as file:\n",
        "            contents = file.read()\n",
        "            print(contents)\n",
        "    except FileNotFoundError:\n",
        "        print(f\"Error: File '{filename}' not found.\")\n",
        "    except Exception as e:\n",
        "        print(f\"An unexpected error occurred: {e}\")\n",
        "\n",
        "file_handling_example('myfile.txt') #in this the file is existing\n",
        "file_handling_example('mfile.txt') #in this the file is not existing"
      ]
    },
    {
      "cell_type": "code",
      "execution_count": 10,
      "metadata": {
        "colab": {
          "base_uri": "https://localhost:8080/"
        },
        "id": "mNly_l-rcH0T",
        "outputId": "9018fc87-479f-4d47-8cf8-f9c5540a8a52"
      },
      "outputs": [
        {
          "output_type": "stream",
          "name": "stdout",
          "text": [
            "File content as a list:\n",
            "['HI MY NAME IS Aladin P', 'THIS IS MY ASSIGNMENT FOR FILE HANDLING']\n",
            "Error: File 'non_existing_file.txt' not found.\n"
          ]
        }
      ],
      "source": [
        "'''\n",
        "Q9. How can you read a file line by line and store its content in a list in Python?\n",
        "\n",
        "'''\n",
        "\n",
        "def read_file_to_list(filename):\n",
        "    \"\"\"Reads a file line by line and returns its content as a list.\"\"\"\n",
        "    lines = []\n",
        "    try:\n",
        "        with open(filename, 'r') as file:\n",
        "            for line in file:\n",
        "                lines.append(line.strip()) # .strip() removes leading/trailing whitespace, including newlines\n",
        "        return lines\n",
        "    except FileNotFoundError:\n",
        "        print(f\"Error: File '{filename}' not found.\")\n",
        "        return None\n",
        "    except Exception as e:\n",
        "        print(f\"An unexpected error occurred: {e}\")\n",
        "        return None\n",
        "\n",
        "# Example usage with the existing 'myfile.txt'\n",
        "file_content_list = read_file_to_list('myfile.txt')\n",
        "\n",
        "if file_content_list:\n",
        "    print(\"File content as a list:\")\n",
        "    print(file_content_list)\n",
        "\n",
        "# Example usage with a non-existing file\n",
        "non_existing_file_content = read_file_to_list('non_existing_file.txt')"
      ]
    },
    {
      "cell_type": "code",
      "execution_count": 11,
      "metadata": {
        "id": "-YYq840OKk64"
      },
      "outputs": [],
      "source": [
        "'''\n",
        "Q10. How can you append data to an existing file in Python?\n",
        "\n",
        "'''\n",
        "with open('myfile.txt', 'a') as file:\n",
        "    file.write(\"This is appended text.\\n\")\n",
        "    file.write(\"This is question number 10.\\n\")\n"
      ]
    },
    {
      "cell_type": "code",
      "execution_count": 12,
      "metadata": {
        "colab": {
          "base_uri": "https://localhost:8080/"
        },
        "id": "uIIvd09iLQCj",
        "outputId": "f989aa1f-7afd-43b4-aabe-8d5eb1885389"
      },
      "outputs": [
        {
          "output_type": "stream",
          "name": "stdout",
          "text": [
            "Error: The key 'country' does not exist in the dictionary.\n",
            "Key 'country' was not found.\n"
          ]
        }
      ],
      "source": [
        "'''\n",
        "Q11. Write a Python program that uses a try-except block to handle an error when attempting to access a dictionary key that doesn't exist.\n",
        "\n",
        "'''\n",
        "\n",
        "data = {\"name\": \"AVINESH\", \"age\": 21, \"city\": \"LUCKNOW\"}\n",
        "\n",
        "def val(dictionary, key):\n",
        "    try:\n",
        "        value = dictionary[key]\n",
        "        return value\n",
        "    except KeyError:\n",
        "        print(f\"Error: The key '{key}' does not exist in the dictionary.\")\n",
        "        return None\n",
        "\n",
        "key_to_look = \"country\"\n",
        "result = val(data, key_to_look)\n",
        "\n",
        "#this line of code i'm writing in the where key is existing in the dictionary\n",
        "if result is not None:\n",
        "    print(f\"The value for key '{key_to_look}' is: {result}\")\n",
        "else:\n",
        "    print(f\"Key '{key_to_look}' was not found.\")\n",
        "\n"
      ]
    },
    {
      "cell_type": "code",
      "execution_count": 13,
      "metadata": {
        "colab": {
          "base_uri": "https://localhost:8080/"
        },
        "id": "73IKEIxAMAFx",
        "outputId": "a279a756-bb45-4459-e60a-36ef9c4a6063"
      },
      "outputs": [
        {
          "output_type": "stream",
          "name": "stdout",
          "text": [
            "Result of division: 5.0\n",
            "Value at index 1: 2\n",
            "Operations completed successfully.\n",
            "Execution completed.\n",
            "Error: Cannot divide by zero.\n",
            "Execution completed.\n",
            "Error: Key ''value'' not found in data.\n",
            "Execution completed.\n",
            "Result of division: 5.0\n",
            "Error: Index out of range.\n",
            "Execution completed.\n",
            "Result of division: 5.0\n",
            "Value at index 1: t\n",
            "Operations completed successfully.\n",
            "Execution completed.\n"
          ]
        }
      ],
      "source": [
        "'''\n",
        "Q12. Write a program that demonstrates using multiple except blocks to handle different types of exceptions.\n",
        "\n",
        "'''\n",
        "\n",
        "def perform_operations(data):\n",
        "    try:\n",
        "        result = 10 / data['value']\n",
        "        index = int(data['index'])\n",
        "        print(f\"Result of division: {result}\")\n",
        "        print(f\"Value at index {index}: {data['list'][index]}\")\n",
        "    except ZeroDivisionError:\n",
        "        print(\"Error: Cannot divide by zero.\")\n",
        "    except KeyError as e:\n",
        "        print(f\"Error: Key '{e}' not found in data.\")\n",
        "    except ValueError:\n",
        "        print(\"Error: Invalid value for index.\")\n",
        "    except IndexError:\n",
        "        print(\"Error: Index out of range.\")\n",
        "    except TypeError:\n",
        "        print(\"Error: Unsupported operation.\")\n",
        "    except Exception as e:\n",
        "         print(f\"An unexpected error occurred: {e}\")\n",
        "    else:\n",
        "        print(\"Operations completed successfully.\")\n",
        "    finally:\n",
        "        print(\"Execution completed.\")\n",
        "\n",
        "data1 = {'value': 2, 'index': '1', 'list': [1, 2, 3]}\n",
        "perform_operations(data1)\n",
        "\n",
        "data2 = {'value': 0, 'index': 1, 'list': [1, 2, 3]}\n",
        "perform_operations(data2)\n",
        "\n",
        "data3 = {'index': 1, 'list': [1, 2, 3]}\n",
        "perform_operations(data3)\n",
        "\n",
        "data4 = {'value': 2, 'index': 5, 'list': [1, 2, 3]}\n",
        "perform_operations(data4)\n",
        "\n",
        "data5 = {'value': 2, 'index': 1, 'list': \"string\"}\n",
        "perform_operations(data5)"
      ]
    },
    {
      "cell_type": "code",
      "execution_count": 14,
      "metadata": {
        "id": "UvgnQDInMC0s",
        "colab": {
          "base_uri": "https://localhost:8080/"
        },
        "outputId": "c26b167a-a89d-49c2-adea-a16920e9d9a0"
      },
      "outputs": [
        {
          "output_type": "stream",
          "name": "stdout",
          "text": [
            "HI MY NAME IS Aladin P \n",
            "THIS IS MY ASSIGNMENT FOR FILE HANDLING \n",
            "This is appended text.\n",
            "This is question number 10.\n",
            "\n",
            "HI MY NAME IS Aladin P \n",
            "THIS IS MY ASSIGNMENT FOR FILE HANDLING \n",
            "This is appended text.\n",
            "This is question number 10.\n",
            "\n"
          ]
        }
      ],
      "source": [
        "'''\n",
        "Q13. How would you check if a file exists before attempting to read it in Python?\n",
        "\n",
        "'''\n",
        "\n",
        "import os\n",
        "from pathlib import Path\n",
        "\n",
        "# Method 1: Using os.path.exists()\n",
        "file_path_os = \"myfile.txt\"\n",
        "if os.path.exists(file_path_os):\n",
        "    with open(file_path_os, 'r') as file:\n",
        "        content = file.read()\n",
        "        print(content)\n",
        "else:\n",
        "    print(f\"File '{file_path_os}' does not exist.\")\n",
        "\n",
        "# Method 2: Using pathlib.Path.exists()\n",
        "file_path_pathlib = Path(\"myfile.txt\")\n",
        "if file_path_pathlib.exists():\n",
        "    with open(file_path_pathlib, 'r') as file:\n",
        "        content = file.read()\n",
        "        print(content)\n",
        "else:\n",
        "    print(f\"File '{file_path_pathlib}' does not exist.\")"
      ]
    },
    {
      "cell_type": "code",
      "execution_count": 15,
      "metadata": {
        "id": "na7NuoMUMCq7",
        "colab": {
          "base_uri": "https://localhost:8080/"
        },
        "outputId": "60713457-ffa9-4df4-dad3-663f00e65bf0"
      },
      "outputs": [
        {
          "output_type": "stream",
          "name": "stderr",
          "text": [
            "ERROR:root:Error: Division by zero is not allowed. Numerator: 40, Denominator: 0\n",
            "ERROR:root:An unexpected error occurred: unsupported operand type(s) for /: 'int' and 'str'\n"
          ]
        }
      ],
      "source": [
        "'''\n",
        "Q14. Write a program that uses the logging module to log both informational and error messages.\n",
        "\n",
        "'''\n",
        "\n",
        "import logging\n",
        "logging.basicConfig(filename='my_app.log', level=logging.DEBUG,format='%(asctime)s - %(levelname)s - %(message)s',handlers=[logging.StreamHandler()])\n",
        "\n",
        "def divide_numbers(numerator, denominator):\n",
        "    try:\n",
        "        logging.info(\"Attempting to divide %s by %s.\", numerator, denominator)\n",
        "        result = numerator / denominator\n",
        "        logging.info(\"Division successful. Result: %s\", result)\n",
        "        return result\n",
        "    except ZeroDivisionError:\n",
        "        logging.error(\"Error: Division by zero is not allowed. Numerator: %s, Denominator: %s\", numerator, denominator)\n",
        "        return None\n",
        "    except Exception as e:\n",
        "        logging.error(\"An unexpected error occurred: %s\", e)\n",
        "        return None\n",
        "\n",
        "\n",
        "logging.info(\"Program started.\")\n",
        "divide_numbers(50, 2)  # Successful division\n",
        "divide_numbers(40, 0)  # Division by zero error\n",
        "divide_numbers(11, 'a')  # Invalid input\n",
        "logging.info(\"Program ended.\")\n"
      ]
    },
    {
      "cell_type": "code",
      "source": [
        "'''\n",
        "Q15. Write a Python program that prints the content of a file and handles the case when the file is empty.\n",
        "\n",
        "'''\n",
        "def print_file_content(file_path):\n",
        "    \"\"\"\n",
        "    Prints the content of a file.\n",
        "    If the file is empty, it prints a message indicating that the file is empty.\n",
        "    \"\"\"\n",
        "    try:\n",
        "        with open(file_path, 'r') as file:\n",
        "            content = file.read()\n",
        "            if not content:\n",
        "                print(\"The file is empty.\")\n",
        "            else:\n",
        "                print(content)\n",
        "    except FileNotFoundError:\n",
        "        print(f\"Error: File not found: {file_path}\")\n",
        "\n",
        "# Example usage:\n",
        "file_path = \"my_file.txt\"\n",
        "\n",
        "# Create an empty file for testing\n",
        "with open(file_path, 'w') as f:\n",
        "    pass\n",
        "\n",
        "print(\"Content of empty file:\")\n",
        "print_file_content(file_path)\n",
        "\n",
        "# Write some content to the file\n",
        "with open(file_path, 'w') as f:\n",
        "    f.write(\"This is a test file.\\nIt has some content.\")\n",
        "\n",
        "print(\"\\nContent of file with text:\")\n",
        "print_file_content(file_path)\n",
        "\n",
        "# Test with a non-existent file\n",
        "print(\"\\nContent of non-existent file:\")\n",
        "print_file_content(\"non_existent_file.txt\")\n"
      ],
      "metadata": {
        "colab": {
          "base_uri": "https://localhost:8080/"
        },
        "id": "iCYUHl_aUAEp",
        "outputId": "3c762651-4caa-4797-d2c4-f9bcbf58fe76"
      },
      "execution_count": 16,
      "outputs": [
        {
          "output_type": "stream",
          "name": "stdout",
          "text": [
            "Content of empty file:\n",
            "The file is empty.\n",
            "\n",
            "Content of file with text:\n",
            "This is a test file.\n",
            "It has some content.\n",
            "\n",
            "Content of non-existent file:\n",
            "Error: File not found: non_existent_file.txt\n"
          ]
        }
      ]
    },
    {
      "cell_type": "code",
      "execution_count": 25,
      "metadata": {
        "id": "8Y4H99ibMChE",
        "colab": {
          "base_uri": "https://localhost:8080/"
        },
        "outputId": "436679f4-45de-440c-fd44-6971db8a6ca4"
      },
      "outputs": [
        {
          "output_type": "stream",
          "name": "stdout",
          "text": [
            "Requirement already satisfied: memory-profiler in /usr/local/lib/python3.11/dist-packages (0.61.0)\n",
            "Requirement already satisfied: psutil in /usr/local/lib/python3.11/dist-packages (from memory-profiler) (5.9.5)\n",
            "ERROR: Could not find file <ipython-input-25-1b5b86f5ada5>\n",
            "NOTE: %mprun can only be used on functions defined in physical files, and not in the IPython environment.\n"
          ]
        }
      ],
      "source": [
        "'''\n",
        "Q16. Demonstrate how to use memory profiling to check the memory usage of a small program.\n",
        "\n",
        "'''\n",
        "!pip install memory-profiler\n",
        "from memory_profiler import profile\n",
        "\n",
        "@profile\n",
        "def simple_function():\n",
        "    a = [i for i in range(100000)]  # Create a large list\n",
        "    b = sum(a)  # Calculate the sum of the list\n",
        "    return b\n",
        "\n",
        "if __name__ == \"__main__\":\n",
        "    simple_function()"
      ]
    },
    {
      "cell_type": "code",
      "source": [
        "'''\n",
        "Q17. Write a Python program to create and write a list of numbers to a file, one number per line.\n",
        "\n",
        "'''\n",
        "\n",
        "def write_numbers_to_file(numbers, filename):\n",
        "    try:\n",
        "        with open(filename, 'w') as file:\n",
        "            for number in numbers:\n",
        "                file.write(str(number) + '\\n')\n",
        "        print(f\"Numbers successfully written to '{filename}'.\")\n",
        "    except Exception as e:\n",
        "        print(f\"An error occurred: {e}\")\n",
        "\n",
        "numbers = [1, 2, 3, 4, 5]\n",
        "filename = 'numbers.txt'\n",
        "write_numbers_to_file(numbers, filename)\n",
        "file.close()\n",
        "\n",
        "f = open(\"numbers.txt\")\n",
        "print(\"\\n The written numbers to the file file are\\n\",f.read())"
      ],
      "metadata": {
        "colab": {
          "base_uri": "https://localhost:8080/"
        },
        "id": "GF9PmasiaUNa",
        "outputId": "25e2b8c4-85aa-4fa7-f543-bc7a4fadfe6d"
      },
      "execution_count": 37,
      "outputs": [
        {
          "output_type": "stream",
          "name": "stdout",
          "text": [
            "Numbers successfully written to 'numbers.txt'.\n",
            "\n",
            " The written numbers to the file file are\n",
            " 1\n",
            "2\n",
            "3\n",
            "4\n",
            "5\n",
            "\n"
          ]
        }
      ]
    },
    {
      "cell_type": "code",
      "source": [
        "'''\n",
        "Q18. How would you implement a basic logging setup that logs to a file with rotation after 1MB?\n",
        "\n",
        "'''\n",
        "import logging\n",
        "from logging.handlers import RotatingFileHandler\n",
        "\n",
        "log_file = 'app.log'\n",
        "log_formatter = logging.Formatter('%(asctime)s - %(levelname)s - %(message)s')\n",
        "\n",
        "handler = RotatingFileHandler(log_file, maxBytes=1*1024*1024, backupCount=5)\n",
        "handler.setFormatter(log_formatter)\n",
        "\n",
        "logger = logging.getLogger()\n",
        "logger.setLevel(logging.DEBUG)\n",
        "logger.addHandler(handler)\n",
        "\n",
        "def main():\n",
        "    logger.info(\"This is an informational message.\")\n",
        "    logger.debug(\"This is a debug message.\")\n",
        "    logger.warning(\"This is a warning message.\")\n",
        "    logger.error(\"This is an error message.\")\n",
        "    logger.critical(\"This is a critical message.\")\n",
        "\n",
        "if __name__ == \"__main__\":\n",
        "    main()\n",
        "    print(\"Logging setup complete. Check the log file for messages.\")\n",
        ""
      ],
      "metadata": {
        "colab": {
          "base_uri": "https://localhost:8080/"
        },
        "id": "YccQ4SYNceIr",
        "outputId": "e548ece7-4a28-4c3c-8f9e-28166599c170"
      },
      "execution_count": 1,
      "outputs": [
        {
          "output_type": "stream",
          "name": "stderr",
          "text": [
            "INFO:root:This is an informational message.\n",
            "DEBUG:root:This is a debug message.\n",
            "WARNING:root:This is a warning message.\n",
            "ERROR:root:This is an error message.\n",
            "CRITICAL:root:This is a critical message.\n"
          ]
        },
        {
          "output_type": "stream",
          "name": "stdout",
          "text": [
            "Logging setup complete. Check the log file for messages.\n"
          ]
        }
      ]
    },
    {
      "cell_type": "code",
      "execution_count": 3,
      "metadata": {
        "id": "AvXUHvV6MCXN",
        "colab": {
          "base_uri": "https://localhost:8080/"
        },
        "outputId": "62c44de0-2f6a-40b4-cfae-619cc24167e2"
      },
      "outputs": [
        {
          "output_type": "stream",
          "name": "stdout",
          "text": [
            "IndexError: The list index is out of range!\n",
            "KeyError: The key does not exist in the dictionary!\n",
            "Program continues running after handling exceptions.\n"
          ]
        }
      ],
      "source": [
        "'''\n",
        "Q19. Write a program that handles both IndexError and KeyError using a try-except block.\n",
        "\n",
        "'''\n",
        "\n",
        "my_list = [1, 2, 3]\n",
        "my_dict = {'a': 1, 'b': 2}\n",
        "\n",
        "try:\n",
        "    # Attempt to access an invalid index (will raise IndexError)\n",
        "    print(my_list[5])\n",
        "except IndexError:\n",
        "    print(\"IndexError: The list index is out of range!\")\n",
        "\n",
        "try:\n",
        "    # Attempt to access a non-existent key (will raise KeyError)\n",
        "    print(my_dict['m'])\n",
        "except KeyError:\n",
        "    print(\"KeyError: The key does not exist in the dictionary!\")\n",
        "\n",
        "# This line will run regardless of the exceptions above\n",
        "print(\"Program continues running after handling exceptions.\")\n"
      ]
    },
    {
      "cell_type": "code",
      "source": [
        "'''\n",
        "Q20. How would you open a file and read its contents using a context manager in Python?\n",
        "\n",
        "'''\n",
        "\n",
        "file_path = \"destination.txt\"\n",
        "\n",
        "with open(file_path, 'r') as file:\n",
        "    content = file.read()\n",
        "\n",
        "print(content)"
      ],
      "metadata": {
        "colab": {
          "base_uri": "https://localhost:8080/"
        },
        "id": "5O5r_yrRf9V3",
        "outputId": "8569ac4c-6dcf-499f-bfb9-69098366d0d3"
      },
      "execution_count": 4,
      "outputs": [
        {
          "output_type": "stream",
          "name": "stdout",
          "text": [
            "HI MY NAME IS Aladin P \n",
            "THIS IS MY ASSIGNMENT FOR FILE HANDLING \n",
            "\n"
          ]
        }
      ]
    },
    {
      "cell_type": "code",
      "source": [
        "'''\n",
        "Q21. Write a Python program that reads a file and prints the number of occurrences of a specific word.\n",
        "\n",
        "'''\n",
        "def count_word_in_file(file_path, target_word):\n",
        "    count = 0\n",
        "    with open(file_path, 'r') as file:\n",
        "        for line in file:\n",
        "            words = line.lower().split()  # Convert to lowercase and split into words\n",
        "            count += words.count(target_word.lower())  # Count occurrences in the line\n",
        "    return count\n",
        "\n",
        "# Example usage\n",
        "file_path = 'myfile.txt'  # Replace with your file name\n",
        "word_to_search = 'Aladin'  # Replace with the word you want to search\n",
        "\n",
        "occurrences = count_word_in_file(file_path, word_to_search)\n",
        "print(f\"The word '{word_to_search}' occurs {occurrences} times in the file.\")"
      ],
      "metadata": {
        "colab": {
          "base_uri": "https://localhost:8080/"
        },
        "id": "e3st-8uFf9Hs",
        "outputId": "b436edb1-b25f-4947-c8ac-bd10f3fa70e1"
      },
      "execution_count": 5,
      "outputs": [
        {
          "output_type": "stream",
          "name": "stdout",
          "text": [
            "The word 'Aladin' occurs 1 times in the file.\n"
          ]
        }
      ]
    },
    {
      "cell_type": "code",
      "execution_count": 7,
      "metadata": {
        "id": "SJf1PAgyMCGn",
        "colab": {
          "base_uri": "https://localhost:8080/"
        },
        "outputId": "d7454594-072c-4e4e-d850-d94c1d945cf3"
      },
      "outputs": [
        {
          "output_type": "stream",
          "name": "stdout",
          "text": [
            "HI MY NAME IS Aladin P \n",
            "THIS IS MY ASSIGNMENT FOR FILE HANDLING \n",
            "This is appended text.\n",
            "This is question number 10.\n",
            "\n"
          ]
        }
      ],
      "source": [
        "'''\n",
        "Q22. How can you check if a file is empty before attempting to read its contents?\n",
        "\n",
        "'''\n",
        "\n",
        "import os\n",
        "\n",
        "def print_file_content(filename):\n",
        "    if not os.path.exists(filename):\n",
        "        print(f\"Error: File '{filename}' not found.\")\n",
        "        return\n",
        "\n",
        "    try:\n",
        "        with open(filename, 'r') as file:\n",
        "            content = file.read()\n",
        "            if not content:\n",
        "                print(\"The file is empty.\")\n",
        "            else:\n",
        "                print(content)\n",
        "    except Exception as e:\n",
        "        print(f\"An error occurred while reading the file: {e}\")\n",
        "\n",
        "print_file_content('myfile.txt')\n"
      ]
    },
    {
      "cell_type": "code",
      "execution_count": 14,
      "metadata": {
        "id": "n6M9PEVJMB39",
        "colab": {
          "base_uri": "https://localhost:8080/"
        },
        "outputId": "60d41505-031d-4574-b196-5d5c6ed8982a"
      },
      "outputs": [
        {
          "output_type": "stream",
          "name": "stderr",
          "text": [
            "ERROR:root:Error: File 'myfil.txt' not found. \n",
            "Check the log 'file file_handling.log for log info' \n"
          ]
        }
      ],
      "source": [
        "'''\n",
        "Q23. Write a Python program that writes to a log file when an error occurs during file handling.\n",
        "\n",
        "'''\n",
        "\n",
        "import logging\n",
        "logging.basicConfig(filename='file_handling.log', level=logging.ERROR,\n",
        "                    format='%(asctime)s - %(levelname)s - %(message)s')\n",
        "\n",
        "def process_file(filename):\n",
        "    try:\n",
        "        with open(filename, 'r') as file:\n",
        "            contents = file.read()\n",
        "            print(contents)\n",
        "    except FileNotFoundError:\n",
        "        logging.error(f\"Error: File '{filename}' not found. \\nCheck the log 'file file_handling.log for log info' \")\n",
        "    except Exception as e:\n",
        "        logging.error(f\"An unexpected error occurred while processing '{filename}': {e}. \\ncheck the log 'file file_handling.log for log info '\")\n",
        "\n",
        "process_file('myfil.txt')"
      ]
    },
    {
      "cell_type": "code",
      "execution_count": 16,
      "metadata": {
        "id": "IZv0LQrOL_j4"
      },
      "outputs": [],
      "source": []
    }
  ],
  "metadata": {
    "colab": {
      "provenance": []
    },
    "kernelspec": {
      "display_name": "Python 3",
      "name": "python3"
    },
    "language_info": {
      "name": "python"
    }
  },
  "nbformat": 4,
  "nbformat_minor": 0
}